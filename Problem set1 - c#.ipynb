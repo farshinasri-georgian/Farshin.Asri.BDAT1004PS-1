{
 "cells": [
  {
   "attachments": {},
   "cell_type": "markdown",
   "metadata": {},
   "source": [
    "## Question 1:\n",
    "#### 5 => int \n",
    "#### 5.0 => Decimal\n",
    "#### 5 > 1 => bool\n",
    "#### '5' => char\n",
    "#### 5 * 2 => int\n",
    "#### '5' * 2 => int -- correspondig ascii code of 5 which is 53, multiply by 2 = 106\n",
    "#### '5' + '2' => int -- correspondig ascii code of 5 which is 53 + correspondig ascii code of 2\n",
    "#### 5 / 2 => int \n",
    "#### 5 % 2 => int\n",
    "#### {5, 2, 1} => array of int numbers\n",
    "#### 5 == 3 => bool\n",
    "#### Pi (the number) => double"
   ]
  },
  {
   "attachments": {},
   "cell_type": "markdown",
   "metadata": {
    "dotnet_interactive": {
     "language": "csharp"
    },
    "polyglot_notebook": {
     "kernelName": "csharp"
    }
   },
   "source": [
    "## Question 2:"
   ]
  },
  {
   "cell_type": "code",
   "execution_count": 21,
   "metadata": {
    "dotnet_interactive": {
     "language": "csharp"
    },
    "polyglot_notebook": {
     "kernelName": "csharp"
    },
    "vscode": {
     "languageId": "polyglot-notebook"
    }
   },
   "outputs": [
    {
     "name": "stdout",
     "output_type": "stream",
     "text": [
      "34\r\n"
     ]
    }
   ],
   "source": [
    "// Section a :\n",
    "string s = \"Supercalifragilisticexpialidocious\";\n",
    "Console.WriteLine(s.Length);\n"
   ]
  },
  {
   "cell_type": "code",
   "execution_count": 22,
   "metadata": {
    "dotnet_interactive": {
     "language": "csharp"
    },
    "polyglot_notebook": {
     "kernelName": "csharp"
    },
    "vscode": {
     "languageId": "polyglot-notebook"
    }
   },
   "outputs": [
    {
     "name": "stdout",
     "output_type": "stream",
     "text": [
      "YES\r\n"
     ]
    }
   ],
   "source": [
    "//section b:\n",
    "Console.WriteLine(s.Contains(\"ice\") ? \"YES\" : \"NO\" );\n"
   ]
  },
  {
   "cell_type": "code",
   "execution_count": 23,
   "metadata": {
    "dotnet_interactive": {
     "language": "csharp"
    },
    "polyglot_notebook": {
     "kernelName": "csharp"
    },
    "vscode": {
     "languageId": "polyglot-notebook"
    }
   },
   "outputs": [
    {
     "name": "stdout",
     "output_type": "stream",
     "text": [
      "Sorted list of string above:\n",
      "\n",
      "\n",
      "Supercalifragilisticexpialidocious Length:34\n",
      "Bababadalgharaghtakamminarronnkonn Length:34\n",
      "Honorificabilitudinitatibus Length:27\n"
     ]
    }
   ],
   "source": [
    "//section c : \n",
    "// Answer : two of them are same : 34 and longer than the third one\n",
    "string[] str3 = new string[] {\n",
    "    \"Supercalifragilisticexpialidocious\",\n",
    "    \"Honorificabilitudinitatibus\",\n",
    "    \"Bababadalgharaghtakamminarronnkonn\"};\n",
    "Console.WriteLine(\"Sorted list of string above:\\n\\n\");\n",
    "\n",
    "foreach (string element in  str3.OrderByDescending(x => x.Length).ToArray())\n",
    "\n",
    "{\n",
    "    Console.WriteLine(element +\" Length:\" + Convert.ToString(element.Length));\n",
    "}"
   ]
  },
  {
   "attachments": {},
   "cell_type": "markdown",
   "metadata": {
    "dotnet_interactive": {
     "language": "csharp"
    },
    "polyglot_notebook": {
     "kernelName": "csharp"
    }
   },
   "source": [
    "##### In section d of question 2, Because C# dictionary does not change the order of inputs,Berlioz will be first and Bernstein last exactly similar to the way we input key-values there \n",
    "\n",
    "\n",
    "#### Question 3 :"
   ]
  },
  {
   "cell_type": "code",
   "execution_count": 24,
   "metadata": {
    "dotnet_interactive": {
     "language": "csharp"
    },
    "polyglot_notebook": {
     "kernelName": "csharp"
    },
    "vscode": {
     "languageId": "polyglot-notebook"
    }
   },
   "outputs": [
    {
     "name": "stdout",
     "output_type": "stream",
     "text": [
      "1.7320508075688772\r\n"
     ]
    }
   ],
   "source": [
    "\n",
    "double triangleArea(int a, int b, int c)\n",
    "{\n",
    "    int s = (a + b + c) / 2;\n",
    "    double result= Math.Sqrt(s*(s-a)*(s-b)*(s-c));\n",
    "    return result;\n",
    "}\n",
    "Console.WriteLine(triangleArea(2, 2, 2));\n"
   ]
  },
  {
   "attachments": {},
   "cell_type": "markdown",
   "metadata": {
    "dotnet_interactive": {
     "language": "csharp"
    },
    "polyglot_notebook": {
     "kernelName": "csharp"
    }
   },
   "source": [
    "#### Question 4:\n",
    "#### Because I'm using polyglot notebook (official .net notebook),instead of ReadLine() ,I need to use Kernel function\n"
   ]
  },
  {
   "cell_type": "code",
   "execution_count": 26,
   "metadata": {
    "dotnet_interactive": {
     "language": "csharp"
    },
    "polyglot_notebook": {
     "kernelName": "csharp"
    },
    "vscode": {
     "languageId": "polyglot-notebook"
    }
   },
   "outputs": [
    {
     "name": "stdout",
     "output_type": "stream",
     "text": [
      "Odd Elements :\n",
      "1 3 33 \n",
      "Even Elements :\n",
      "44 6 "
     ]
    }
   ],
   "source": [
    "using Microsoft.DotNet.Interactive;\n",
    "\n",
    "//int n =Convert.ToInt32(Console.ReadLine()); <= the old way\n",
    "int n = Convert.ToInt32(await Kernel.GetInputAsync(\"Enter number of elements to be stored in array:\"));\n",
    "\n",
    "List<int> templistOdd = new List<int>();\n",
    "\n",
    "List<int> templistEven = new List<int>();\n",
    "\n",
    "for (int i = 0;i < n; i++)\n",
    "{\n",
    "\n",
    "    int newNum = Convert.ToInt32(await Kernel.GetInputAsync($\"Enter number-{i}\"));\n",
    "    if (newNum % 2 == 0)\n",
    "    {\n",
    "        templistEven.Add(newNum);\n",
    "    }\n",
    "    else\n",
    "    {\n",
    "        templistOdd.Add(newNum);\n",
    "    }\n",
    "}\n",
    "\n",
    "int[] oddNumbers = templistOdd.ToArray();\n",
    "int[] evenNumbers = templistEven.ToArray();\n",
    "\n",
    "Console.WriteLine(\"Odd Elements :\");\n",
    "foreach(int odd in oddNumbers)\n",
    "{\n",
    "    Console.Write(odd + \" \");\n",
    "}\n",
    "\n",
    "Console.WriteLine(\"\\nEven Elements :\");\n",
    "foreach (int even in evenNumbers)\n",
    "{\n",
    "    Console.Write(even + \" \");\n",
    "}"
   ]
  },
  {
   "attachments": {},
   "cell_type": "markdown",
   "metadata": {
    "dotnet_interactive": {
     "language": "csharp"
    },
    "polyglot_notebook": {
     "kernelName": "csharp"
    }
   },
   "source": [
    "#### For question 5 , I've used Enumerable method in cell below, And easiest way in next one."
   ]
  },
  {
   "cell_type": "code",
   "execution_count": 27,
   "metadata": {
    "dotnet_interactive": {
     "language": "csharp"
    },
    "polyglot_notebook": {
     "kernelName": "csharp"
    },
    "vscode": {
     "languageId": "polyglot-notebook"
    }
   },
   "outputs": [
    {
     "name": "stdout",
     "output_type": "stream",
     "text": [
      "False\r\n"
     ]
    }
   ],
   "source": [
    "// one way to code:\n",
    "bool inside (int x,int y,int x1,int y1,int x2,int y2)\n",
    "{\n",
    "\n",
    "    return Enumerable.Range(x1, y1).Contains(x) && Enumerable.Range(x2, y2).Contains(y) ? true : false;\n",
    "}\n",
    "\n",
    "Console.WriteLine(inside(10,8,11,13,7,9));"
   ]
  },
  {
   "cell_type": "code",
   "execution_count": 3,
   "metadata": {
    "dotnet_interactive": {
     "language": "csharp"
    },
    "polyglot_notebook": {
     "kernelName": "csharp"
    },
    "vscode": {
     "languageId": "polyglot-notebook"
    }
   },
   "outputs": [
    {
     "name": "stdout",
     "output_type": "stream",
     "text": [
      "True\r\n"
     ]
    }
   ],
   "source": [
    "// another way to code:\n",
    "bool inside (int x,int y,int x1,int y1,int x2,int y2)\n",
    "{\n",
    "\n",
    "    return (x>=x1 && y<=y1 ) && (x>=x2 && y<=y2) ? true : false;\n",
    "}\n",
    "\n",
    "Console.WriteLine(inside(12,8,11,13,7,9));"
   ]
  },
  {
   "cell_type": "code",
   "execution_count": null,
   "metadata": {
    "dotnet_interactive": {
     "language": "csharp"
    },
    "polyglot_notebook": {
     "kernelName": "csharp"
    },
    "vscode": {
     "languageId": "polyglot-notebook"
    }
   },
   "outputs": [],
   "source": []
  }
 ],
 "metadata": {
  "kernelspec": {
   "display_name": ".NET (C#)",
   "language": "C#",
   "name": ".net-csharp"
  },
  "polyglot_notebook": {
   "kernelInfo": {
    "defaultKernelName": "csharp",
    "items": [
     {
      "aliases": [
       "c#",
       "C#"
      ],
      "languageName": "C#",
      "name": "csharp"
     },
     {
      "aliases": [
       "frontend"
      ],
      "languageName": null,
      "name": "vscode"
     }
    ]
   }
  }
 },
 "nbformat": 4,
 "nbformat_minor": 2
}
