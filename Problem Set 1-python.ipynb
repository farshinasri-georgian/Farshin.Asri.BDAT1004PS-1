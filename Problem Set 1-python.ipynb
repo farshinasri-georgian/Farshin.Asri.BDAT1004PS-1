{
 "cells": [
  {
   "cell_type": "markdown",
   "id": "515d3532",
   "metadata": {},
   "source": [
    "#### Question 6:"
   ]
  },
  {
   "cell_type": "code",
   "execution_count": 94,
   "id": "65c51459",
   "metadata": {},
   "outputs": [
    {
     "name": "stdout",
     "output_type": "stream",
     "text": [
      "appyay\n",
      "enterway\n"
     ]
    }
   ],
   "source": [
    "def pig(word):\n",
    "    word = word.lower()\n",
    "    if word[0] in ['a','e','i','o','u']:\n",
    "        print(word+\"way\")\n",
    "\n",
    "    else:\n",
    "        print(word[1:]+\"ay\")\n",
    "\n",
    "\n",
    "pig(\"happy\")\n",
    "pig(\"Enter\")"
   ]
  },
  {
   "cell_type": "markdown",
   "id": "93408034",
   "metadata": {},
   "source": [
    "#### Question 7:"
   ]
  },
  {
   "cell_type": "code",
   "execution_count": 95,
   "id": "881ee574",
   "metadata": {},
   "outputs": [
    {
     "name": "stdout",
     "output_type": "stream",
     "text": [
      "there are 15 patients of blood type A \n",
      "there is one patients of blood type B \n",
      "there are 13 patients of blood type AB \n",
      "there are 15 patients of blood type O \n",
      "there is no patients of blood type OO \n"
     ]
    }
   ],
   "source": [
    "with open(\"c:/Users/farsh/Desktop/bloodtype1.txt\", \"r\") as txt_file:\n",
    "     alltypes=txt_file.read()\n",
    "        \n",
    "        \n",
    "alltypes = alltypes.rstrip(\"\\n\").split(\" \")\n",
    "bloodtypes = ['A','B','AB','O',\"OO\"]\n",
    "\n",
    "for tp in bloodtypes:\n",
    "    cnt = alltypes.count(tp)\n",
    "    print(f\"there {'are' if cnt > 1 else 'is'} {'one' if cnt == 1 else cnt if cnt>1 else 'no'} patients of blood type {tp} \")"
   ]
  },
  {
   "cell_type": "markdown",
   "id": "38fe9309",
   "metadata": {},
   "source": [
    "#### Question 8:"
   ]
  },
  {
   "cell_type": "code",
   "execution_count": 96,
   "id": "589e7b48",
   "metadata": {},
   "outputs": [
    {
     "name": "stdout",
     "output_type": "stream",
     "text": [
      "122.96544\n"
     ]
    }
   ],
   "source": [
    "currencies = {}\n",
    "\n",
    "with open(\"c:/Users/farsh/Desktop/currencies.txt\", \"r\") as txt_file:\n",
    "    for line in txt_file:\n",
    "        currencies.update({line.split('\\t')[0]:float(line.split('\\t')[1])})\n",
    "\n",
    "def curconv(currency,amount):\n",
    "    return amount * currencies[currency]    \n",
    "    \n",
    "print(curconv(\"EUR\",100))"
   ]
  },
  {
   "cell_type": "markdown",
   "id": "460af43e",
   "metadata": {},
   "source": [
    "#### Question 9\n",
    "##### a) TypeError\n",
    "##### b) IndexError\n",
    "##### c) ValueError\n",
    "##### d) NameError\n",
    "##### e) FileNotFoundError  \n",
    "##### --------------------------------------------------------------------------------------------------------------------------------------\n",
    "#### Question 10:"
   ]
  },
  {
   "cell_type": "code",
   "execution_count": 97,
   "id": "42eaf8c3",
   "metadata": {},
   "outputs": [
    {
     "name": "stdout",
     "output_type": "stream",
     "text": [
      "{'h': 4, 'e': 4, 'y': 5, 'o': 3, 'w': 1, 'a': 2, 'r': 1, 'u': 1, 't': 1, 'd': 1}\n"
     ]
    }
   ],
   "source": [
    "def frequencies(txt):\n",
    "    freq = {}\n",
    "    for s in [*txt]:\n",
    "        if s.isalpha():\n",
    "            freq.update({s:txt.count(s)})\n",
    "    return(freq)\n",
    "\n",
    "print(frequencies(\"hey hey hey,how are you today 123 .\"))"
   ]
  },
  {
   "cell_type": "code",
   "execution_count": null,
   "id": "87754c3d",
   "metadata": {},
   "outputs": [],
   "source": []
  }
 ],
 "metadata": {
  "kernelspec": {
   "display_name": "Python 3 (ipykernel)",
   "language": "python",
   "name": "python3"
  },
  "language_info": {
   "codemirror_mode": {
    "name": "ipython",
    "version": 3
   },
   "file_extension": ".py",
   "mimetype": "text/x-python",
   "name": "python",
   "nbconvert_exporter": "python",
   "pygments_lexer": "ipython3",
   "version": "3.9.7"
  }
 },
 "nbformat": 4,
 "nbformat_minor": 5
}
